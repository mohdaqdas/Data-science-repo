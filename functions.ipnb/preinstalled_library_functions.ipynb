{
 "metadata": {
  "language_info": {
   "codemirror_mode": {
    "name": "ipython",
    "version": 3
   },
   "file_extension": ".py",
   "mimetype": "text/x-python",
   "name": "python",
   "nbconvert_exporter": "python",
   "pygments_lexer": "ipython3",
   "version": "3.9.0-final"
  },
  "orig_nbformat": 2,
  "kernelspec": {
   "name": "python3",
   "display_name": "Python 3.9.0 64-bit",
   "metadata": {
    "interpreter": {
     "hash": "68078da1e8f2b70216368c65794038e06b6b70a952cdc317112cc851aad305e6"
    }
   }
  }
 },
 "nbformat": 4,
 "nbformat_minor": 2,
 "cells": [
  {
   "cell_type": "code",
   "execution_count": 1,
   "metadata": {},
   "outputs": [],
   "source": [
    "import os"
   ]
  },
  {
   "cell_type": "code",
   "execution_count": 2,
   "metadata": {},
   "outputs": [
    {
     "output_type": "execute_result",
     "data": {
      "text/plain": [
       "'c:\\\\Users\\\\faraz\\\\OneDrive\\\\Desktop\\\\python\\\\functions.ipnb'"
      ]
     },
     "metadata": {},
     "execution_count": 2
    }
   ],
   "source": [
    "os.getcwd() #cwd-current working direcory\n"
   ]
  },
  {
   "cell_type": "code",
   "execution_count": 3,
   "metadata": {},
   "outputs": [
    {
     "output_type": "execute_result",
     "data": {
      "text/plain": [
       "['builtin.ipynb', 'preinstalled_library_functions.ipynb']"
      ]
     },
     "metadata": {},
     "execution_count": 3
    }
   ],
   "source": [
    "os.listdir() #tells the files inside the folder "
   ]
  },
  {
   "cell_type": "code",
   "execution_count": 4,
   "metadata": {},
   "outputs": [
    {
     "output_type": "stream",
     "text": [
      "\u001b[1;31mSignature:\u001b[0m \u001b[0mos\u001b[0m\u001b[1;33m.\u001b[0m\u001b[0mlistdir\u001b[0m\u001b[1;33m(\u001b[0m\u001b[0mpath\u001b[0m\u001b[1;33m=\u001b[0m\u001b[1;32mNone\u001b[0m\u001b[1;33m)\u001b[0m\u001b[1;33m\u001b[0m\u001b[1;33m\u001b[0m\u001b[0m\n",
      "\u001b[1;31mDocstring:\u001b[0m\n",
      "Return a list containing the names of the files in the directory.\n",
      "\n",
      "path can be specified as either str, bytes, or a path-like object.  If path is bytes,\n",
      "  the filenames returned will also be bytes; in all other circumstances\n",
      "  the filenames returned will be str.\n",
      "If path is None, uses the path='.'.\n",
      "On some platforms, path may also be specified as an open file descriptor;\\\n",
      "  the file descriptor must refer to a directory.\n",
      "  If this functionality is unavailable, using it raises NotImplementedError.\n",
      "\n",
      "The list is in arbitrary order.  It does not include the special\n",
      "entries '.' and '..' even if they are present in the directory.\n",
      "\u001b[1;31mType:\u001b[0m      builtin_function_or_method\n"
     ],
     "name": "stdout"
    }
   ],
   "source": [
    "os.listdir?\n"
   ]
  },
  {
   "cell_type": "code",
   "execution_count": 8,
   "metadata": {},
   "outputs": [
    {
     "output_type": "execute_result",
     "data": {
      "text/plain": [
       "['builtin.ipynb', 'preinstalled_library_functions.ipynb']"
      ]
     },
     "metadata": {},
     "execution_count": 8
    }
   ],
   "source": [
    "os.listdir('C:')"
   ]
  },
  {
   "cell_type": "code",
   "execution_count": 9,
   "metadata": {},
   "outputs": [
    {
     "output_type": "execute_result",
     "data": {
      "text/plain": [
       "['AV', 'DESIGNER', 'McAfee', 'microsoft shared', 'Services', 'System']"
      ]
     },
     "metadata": {},
     "execution_count": 9
    }
   ],
   "source": [
    "os.listdir('C:\\Program Files\\Common Files')"
   ]
  },
  {
   "cell_type": "code",
   "execution_count": 14,
   "metadata": {},
   "outputs": [],
   "source": [
    "os.chdir('D:')"
   ]
  },
  {
   "cell_type": "code",
   "execution_count": 15,
   "metadata": {},
   "outputs": [
    {
     "output_type": "execute_result",
     "data": {
      "text/plain": [
       "['$RECYCLE.BIN', 'microsoft unique code.txt', 'System Volume Information']"
      ]
     },
     "metadata": {},
     "execution_count": 15
    }
   ],
   "source": [
    "os.listdir()"
   ]
  },
  {
   "cell_type": "code",
   "execution_count": null,
   "metadata": {},
   "outputs": [],
   "source": [
    "#directory and folder are same"
   ]
  },
  {
   "cell_type": "code",
   "execution_count": 17,
   "metadata": {},
   "outputs": [],
   "source": [
    "os.mkdir(\"Aqdas\") #make directory in given directory i.e. here it is in D:"
   ]
  },
  {
   "cell_type": "code",
   "execution_count": 18,
   "metadata": {},
   "outputs": [],
   "source": [
    "os.rmdir(\"aqdas\") #delete the blank folder i.e. as created previous one "
   ]
  },
  {
   "cell_type": "code",
   "execution_count": 19,
   "metadata": {},
   "outputs": [
    {
     "output_type": "execute_result",
     "data": {
      "text/plain": [
       "False"
      ]
     },
     "metadata": {},
     "execution_count": 19
    }
   ],
   "source": [
    "os.path.exists('D:/aqdas')"
   ]
  },
  {
   "cell_type": "code",
   "execution_count": 22,
   "metadata": {},
   "outputs": [
    {
     "output_type": "execute_result",
     "data": {
      "text/plain": [
       "True"
      ]
     },
     "metadata": {},
     "execution_count": 22
    }
   ],
   "source": [
    "os.path.exists('C:\\Windows')"
   ]
  },
  {
   "cell_type": "code",
   "execution_count": 29,
   "metadata": {},
   "outputs": [
    {
     "output_type": "execute_result",
     "data": {
      "text/plain": [
       "<generator object _walk at 0x000001AE8A854890>"
      ]
     },
     "metadata": {},
     "execution_count": 29
    }
   ],
   "source": [
    "os.walk('../')"
   ]
  },
  {
   "cell_type": "code",
   "execution_count": 30,
   "metadata": {
    "tags": [
     "outputPrepend"
    ]
   },
   "outputs": [
    {
     "output_type": "stream",
     "name": "stdout",
     "text": [
      "dll'])\n",
      "('C:\\\\Windows\\\\WinSxS\\\\x86_netfx4-mscorpe_dll_b03f5f7f11d50a3a_4.0.15805.0_none_d20bb66de24e7ec9', [], ['mscorpe.dll'])\n",
      "('C:\\\\Windows\\\\WinSxS\\\\x86_netfx4-mscorrc_dll_b03f5f7f11d50a3a_4.0.15805.0_none_2bcf3bebebf1c695', [], ['mscorrc.dll'])\n",
      "('C:\\\\Windows\\\\WinSxS\\\\x86_netfx4-mscorsecimpl_dll_b03f5f7f11d50a3a_4.0.15805.0_none_7b57b6a9929d49bf', [], ['mscorsecimpl.dll'])\n",
      "('C:\\\\Windows\\\\WinSxS\\\\x86_netfx4-mscorsecr_dll_b03f5f7f11d50a3a_4.0.15805.0_none_333e4230068c870b', [], ['mscorsecr.dll'])\n",
      "('C:\\\\Windows\\\\WinSxS\\\\x86_netfx4-mscorsn_dll_b03f5f7f11d50a3a_4.0.15805.0_none_5f1dd9281e2e3f67', [], ['mscorsn.dll'])\n",
      "('C:\\\\Windows\\\\WinSxS\\\\x86_netfx4-mscorsvc_dll_b03f5f7f11d50a3a_4.0.15805.0_none_8cf47d873880c0fa', [], ['mscorsvc.dll'])\n",
      "('C:\\\\Windows\\\\WinSxS\\\\x86_netfx4-mscorsvw_exe_b03f5f7f11d50a3a_4.0.15805.0_none_c4e6302d398f7e04', [], ['mscorsvw.exe'])\n",
      "('C:\\\\Windows\\\\WinSxS\\\\x86_netfx4-msvcp120_clr_dll_31bf3856ad364e35_4.0.15805.0_none_bcdc70ae3d2b26c1', [], ['msvcp120_clr0400.dll'])\n",
      "('C:\\\\Windows\\\\WinSxS\\\\x86_netfx4-msvcp140_clr_dll_31bf3856ad364e35_4.0.15805.0_none_c14944d2b9d98da3', [], ['msvcp140_clr0400.dll'])\n",
      "('C:\\\\Windows\\\\WinSxS\\\\x86_netfx4-msvcr100_clr_dll_31bf3856ad364e35_4.0.15805.0_none_48cd3712fe137221', [], ['msvcr100_clr0400.dll'])\n",
      "('C:\\\\Windows\\\\WinSxS\\\\x86_netfx4-msvcr120_clr_dll_31bf3856ad364e35_4.0.15805.0_none_4d3a0b377ac1d903', [], ['msvcr120_clr0400.dll'])\n",
      "('C:\\\\Windows\\\\WinSxS\\\\x86_netfx4-naturallanguage6_b03f5f7f11d50a3a_4.0.15805.0_none_51f1db32f8e495cc', [], ['NaturalLanguage6.dll'])\n",
      "('C:\\\\Windows\\\\WinSxS\\\\x86_netfx4-netfx40_iis_schema_update_xml_b03f5f7f11d50a3a_4.0.15805.0_none_bd83a0446cce66f4', [], ['NetFx40_IIS_schema_update.xml'])\n",
      "('C:\\\\Windows\\\\WinSxS\\\\x86_netfx4-netfx45_iis_schema_update_xml_b03f5f7f11d50a3a_4.0.15805.0_none_afe2c96ddf786801', [], ['NetFx45_IIS_schema_update.xml'])\n",
      "('C:\\\\Windows\\\\WinSxS\\\\x86_netfx4-netfx_upgradecleanup_b03f5f7f11d50a3a_4.0.15805.0_none_8bb5c85d65781c3f', [], ['netfx45_upgradecleanup.inf'])\n",
      "('C:\\\\Windows\\\\WinSxS\\\\x86_netfx4-ngenassemblyexclusionclient_31bf3856ad364e35_4.0.19041.1_none_1220d64f604b7fe4', [], ['clientexclusionlist.xml'])\n",
      "('C:\\\\Windows\\\\WinSxS\\\\x86_netfx4-ngentask_exe_b03f5f7f11d50a3a_4.0.15805.0_none_1bb0d4ac7da3bfe1', [], ['ngentask.exe'])\n",
      "('C:\\\\Windows\\\\WinSxS\\\\x86_netfx4-ngen_exe_b03f5f7f11d50a3a_4.0.15805.0_none_faaa7cb4e8f21456', [], ['ngen.exe'])\n",
      "('C:\\\\Windows\\\\WinSxS\\\\x86_netfx4-nlsdata0009_b03f5f7f11d50a3a_4.0.15805.0_none_81602a149c5e2d17', [], ['NlsData0009.dll'])\n",
      "('C:\\\\Windows\\\\WinSxS\\\\x86_netfx4-nlslexicons0009_b03f5f7f11d50a3a_4.0.15805.0_none_eb5b6b74581d0af6', [], ['NlsLexicons0009.dll'])\n",
      "('C:\\\\Windows\\\\WinSxS\\\\x86_netfx4-penimc_b03f5f7f11d50a3a_4.0.15805.0_none_7d190a0400445525', [], ['PenIMC.dll', 'PenIMC2_v0400.dll'])\n",
      "('C:\\\\Windows\\\\WinSxS\\\\x86_netfx4-penimc_b03f5f7f11d50a3a_4.0.15805.101_none_74e5d5e5bb49efcf', [], ['PenIMC.dll', 'PenIMC2_v0400.dll'])\n",
      "('C:\\\\Windows\\\\WinSxS\\\\x86_netfx4-penimc_b03f5f7f11d50a3a_4.0.15805.255_none_74e9d83fbb4653e7', [], ['PenIMC.dll', 'PenIMC2_v0400.dll'])\n",
      "('C:\\\\Windows\\\\WinSxS\\\\x86_netfx4-penimc_v0400_b03f5f7f11d50a3a_4.0.15805.0_none_2a4590454d072a30', [], ['PenIMC_v0400.dll'])\n",
      "('C:\\\\Windows\\\\WinSxS\\\\x86_netfx4-penimc_v0400_b03f5f7f11d50a3a_4.0.15805.101_none_22125c27080cc4da', [], ['PenIMC_v0400.dll'])\n",
      "('C:\\\\Windows\\\\WinSxS\\\\x86_netfx4-penimc_v0400_b03f5f7f11d50a3a_4.0.15805.255_none_22165e81080928f2', [], ['PenIMC_v0400.dll'])\n",
      "('C:\\\\Windows\\\\WinSxS\\\\x86_netfx4-perfcounter_dll_b03f5f7f11d50a3a_4.0.15805.0_none_f3fbde1433fe3c8b', [], ['PerfCounter.dll'])\n",
      "('C:\\\\Windows\\\\WinSxS\\\\x86_netfx4-peverify_dll_b03f5f7f11d50a3a_4.0.15805.0_none_809e4aeecc25b170', [], ['peverify.dll'])\n",
      "('C:\\\\Windows\\\\WinSxS\\\\x86_netfx4-peverify_dll_b03f5f7f11d50a3a_4.0.15805.255_none_786f192a8727b032', [], ['peverify.dll'])\n",
      "('C:\\\\Windows\\\\WinSxS\\\\x86_netfx4-presentationhostdllmui_b03f5f7f11d50a3a_4.0.15805.0_none_6a8f0031c627ca8e', [], ['PresentationHost_v0400.dll.mui'])\n",
      "('C:\\\\Windows\\\\WinSxS\\\\x86_netfx4-presentationhostdllmui_b03f5f7f11d50a3a_4.0.15805.101_none_625bcc13812d6538', [], ['PresentationHost_v0400.dll.mui'])\n",
      "('C:\\\\Windows\\\\WinSxS\\\\x86_netfx4-presentationhostdllmui_b03f5f7f11d50a3a_4.0.15805.255_none_625fce6d8129c950', [], ['PresentationHost_v0400.dll.mui'])\n",
      "('C:\\\\Windows\\\\WinSxS\\\\x86_netfx4-presentationhostdll_b03f5f7f11d50a3a_4.0.15805.0_none_fc99c99753911095', [], ['PresentationHost_v0400.dll'])\n",
      "('C:\\\\Windows\\\\WinSxS\\\\x86_netfx4-presentationhostdll_b03f5f7f11d50a3a_4.0.15805.101_none_f46695790e96ab3f', [], ['PresentationHost_v0400.dll'])\n",
      "('C:\\\\Windows\\\\WinSxS\\\\x86_netfx4-presentationhostdll_b03f5f7f11d50a3a_4.0.15805.255_none_f46a97d30e930f57', [], ['PresentationHost_v0400.dll'])\n",
      "('C:\\\\Windows\\\\WinSxS\\\\x86_netfx4-presentationnative_b03f5f7f11d50a3a_4.0.15805.0_none_38844cb66aab0054', [], ['PresentationNative_v0400.dll'])\n",
      "('C:\\\\Windows\\\\WinSxS\\\\x86_netfx4-presentationnative_b03f5f7f11d50a3a_4.0.15805.101_none_3051189825b09afe', [], ['PresentationNative_v0400.dll'])\n",
      "('C:\\\\Windows\\\\WinSxS\\\\x86_netfx4-presentationnative_b03f5f7f11d50a3a_4.0.15805.255_none_30551af225acff16', [], ['PresentationNative_v0400.dll'])\n",
      "('C:\\\\Windows\\\\WinSxS\\\\x86_netfx4-scripting_engine_tlb_b03f5f7f11d50a3a_4.0.15805.0_none_7ba0186c11064cfa', [], ['Microsoft.JScript.tlb'])\n",
      "('C:\\\\Windows\\\\WinSxS\\\\x86_netfx4-servicemodel..ormancecounters_dll_b03f5f7f11d50a3a_4.0.15805.0_none_d5e0ebedd4e722c9', [], ['ServiceModelPerformanceCounters.dll'])\n",
      "('C:\\\\Windows\\\\WinSxS\\\\x86_netfx4-servicemodel..ormancecounters_man_b03f5f7f11d50a3a_4.0.15805.0_none_d659ecbbd48c087b', [], ['ServiceModelPerformanceCounters.man'])\n",
      "('C:\\\\Windows\\\\WinSxS\\\\x86_netfx4-servicemodelinstallrc_dll_b03f5f7f11d50a3a_4.0.15805.0_none_e9d0e537735b467a', [], ['ServiceModelInstallRC.dll'])\n",
      "('C:\\\\Windows\\\\WinSxS\\\\x86_netfx4-servicemodelregui_dll_b03f5f7f11d50a3a_4.0.15805.0_none_1daab57c59f46826', [], ['ServiceModelRegUI.dll'])\n",
      "('C:\\\\Windows\\\\WinSxS\\\\x86_netfx4-servicemodelreg_exe_b03f5f7f11d50a3a_4.0.15805.0_none_14b25cddc5cbd4b2', [], ['ServiceModelReg.exe'])\n",
      "('C:\\\\Windows\\\\WinSxS\\\\x86_netfx4-servicemonikersupport_dll_b03f5f7f11d50a3a_4.0.15805.0_none_b538177532cb42ff', [], ['ServiceMonikerSupport.dll'])\n",
      "('C:\\\\Windows\\\\WinSxS\\\\x86_netfx4-servicemonikersupport_dll_b03f5f7f11d50a3a_4.0.15805.210_none_ad03e4ceedd1c1ca', [], ['ServiceMonikerSupport.dll'])\n",
      "('C:\\\\Windows\\\\WinSxS\\\\x86_netfx4-smsvchost_exe_config_b03f5f7f11d50a3a_4.0.15805.0_none_9d5d00066c70456b', [], ['SMSvcHost.exe.config'])\n",
      "('C:\\\\Windows\\\\WinSxS\\\\x86_netfx4-sos_dll_b03f5f7f11d50a3a_4.0.15805.0_none_306e52fe391d36c5', [], ['SOS.dll'])\n",
      "('C:\\\\Windows\\\\WinSxS\\\\x86_netfx4-sos_dll_b03f5f7f11d50a3a_4.0.15805.255_none_283f2139f41f3587', [], ['SOS.dll'])\n",
      "('C:\\\\Windows\\\\WinSxS\\\\x86_netfx4-system_core_ni_b03f5f7f11d50a3a_4.0.15805.0_none_88e335443ab33412', [], ['system.core.ni.dll'])\n",
      "('C:\\\\Windows\\\\WinSxS\\\\x86_netfx4-system_drawing_tlb_b03f5f7f11d50a3a_4.0.15805.0_none_5ee9c84b2208b8ce', [], ['System.Drawing.tlb'])\n",
      "('C:\\\\Windows\\\\WinSxS\\\\x86_netfx4-system_enter..eservices_thunk_dll_b03f5f7f11d50a3a_4.0.15805.0_none_a7cbf03c73213be8', [], ['System.EnterpriseServices.Thunk.dll'])\n",
      "('C:\\\\Windows\\\\WinSxS\\\\x86_netfx4-system_enterpriseservices_tlb_b03f5f7f11d50a3a_4.0.15805.0_none_6b8061d4f0a842e1', [], ['System.EnterpriseServices.tlb'])\n",
      "('C:\\\\Windows\\\\WinSxS\\\\x86_netfx4-system_ni_b03f5f7f11d50a3a_4.0.15805.0_none_3230b5d6b211f5a4', [], ['system.ni.dll'])\n",
      "('C:\\\\Windows\\\\WinSxS\\\\x86_netfx4-system_tlb_b03f5f7f11d50a3a_4.0.15805.0_none_568ddd2c96cc4ee5', [], ['System.tlb'])\n",
      "('C:\\\\Windows\\\\WinSxS\\\\x86_netfx4-system_web_tlb_b03f5f7f11d50a3a_4.0.15805.0_none_d768e524791719da', [], ['System.Web.tlb'])\n",
      "('C:\\\\Windows\\\\WinSxS\\\\x86_netfx4-sys_windows_forms_tlb_b03f5f7f11d50a3a_4.0.15805.0_none_a1559af21bb95819', [], ['System.Windows.Forms.tlb'])\n",
      "('C:\\\\Windows\\\\WinSxS\\\\x86_netfx4-tlbref_dll_b03f5f7f11d50a3a_4.0.15805.0_none_0f4664a855d446c9', [], ['TLBREF.DLL'])\n",
      "('C:\\\\Windows\\\\WinSxS\\\\x86_netfx4-ucrtbase_clr_dll_b03f5f7f11d50a3a_4.0.15805.0_none_355abc99ce369081', [], ['ucrtbase_clr0400.dll'])\n",
      "('C:\\\\Windows\\\\WinSxS\\\\x86_netfx4-uninstallpersistsqlstate_sql_b03f5f7f11d50a3a_4.0.15805.0_none_79b4002dbe92715b', [], ['UninstallPersistSqlState.sql'])\n",
      "('C:\\\\Windows\\\\WinSxS\\\\x86_netfx4-uninstallsqlstatetemplate_sql_b03f5f7f11d50a3a_4.0.15805.0_none_231ddfc33015c6db', [], ['UninstallSqlStateTemplate.sql'])\n",
      "('C:\\\\Windows\\\\WinSxS\\\\x86_netfx4-uninstallsqlstate_sql_b03f5f7f11d50a3a_4.0.15805.0_none_cbf771a6dadb84b1', [], ['UninstallSqlState.sql'])\n",
      "('C:\\\\Windows\\\\WinSxS\\\\x86_netfx4-vbc.rsp_b03f5f7f11d50a3a_4.0.15805.0_none_dee08ea519ae0b41', [], ['vbc.rsp'])\n",
      "('C:\\\\Windows\\\\WinSxS\\\\x86_netfx4-vbc7ui_dll_b03f5f7f11d50a3a_4.0.15805.0_none_c05cee4e743b7fee', [], ['vbc7ui.dll'])\n",
      "('C:\\\\Windows\\\\WinSxS\\\\x86_netfx4-vbc_exe_b03f5f7f11d50a3a_4.0.15805.0_none_de9b06e519e58d0f', [], ['vbc.exe', 'vbc.exe.config'])\n",
      "('C:\\\\Windows\\\\WinSxS\\\\x86_netfx4-vcruntime140_clr_dll_31bf3856ad364e35_4.0.15805.0_none_2efdfd3759de32d3', [], ['vcruntime140_clr0400.dll'])\n",
      "('C:\\\\Windows\\\\WinSxS\\\\x86_netfx4-webengine4_dll_b03f5f7f11d50a3a_4.0.15805.0_none_21a607a7dfb96fc0', [], ['webengine4.dll'])\n",
      "('C:\\\\Windows\\\\WinSxS\\\\x86_netfx4-webengine4_dll_b03f5f7f11d50a3a_4.0.15805.210_none_1971d5019abfee8b', [], ['webengine4.dll'])\n",
      "('C:\\\\Windows\\\\WinSxS\\\\x86_netfx4-webengine_dll_b03f5f7f11d50a3a_4.0.15805.0_none_6634b0f1ec49831a', [], ['webengine.dll'])\n",
      "('C:\\\\Windows\\\\WinSxS\\\\x86_netfx4-webengine_dll_b03f5f7f11d50a3a_4.0.15805.210_none_5e007e4ba75001e5', [], ['webengine.dll'])\n",
      "('C:\\\\Windows\\\\WinSxS\\\\x86_netfx4-web_config_b03f5f7f11d50a3a_4.0.15805.0_none_1439be0d98050ba0', [], ['web.config', 'web.config.comments', 'web.config.default'])\n",
      "('C:\\\\Windows\\\\WinSxS\\\\x86_netfx4-web_hightrust_config_b03f5f7f11d50a3a_4.0.15805.0_none_06ee165232ecaa15', [], ['web_hightrust.config'])\n",
      "('C:\\\\Windows\\\\WinSxS\\\\x86_netfx4-web_hightrust_config_default_b03f5f7f11d50a3a_4.0.15805.0_none_e95be31feaa25a13', [], ['web_hightrust.config.default'])\n",
      "('C:\\\\Windows\\\\WinSxS\\\\x86_netfx4-web_lowtrust_config_b03f5f7f11d50a3a_4.0.15805.0_none_6d546e5e2e62d301', [], ['web_lowtrust.config'])\n",
      "('C:\\\\Windows\\\\WinSxS\\\\x86_netfx4-web_lowtrust_config_default_b03f5f7f11d50a3a_4.0.15805.0_none_64c27b3126a2f1b3', [], ['web_lowtrust.config.default'])\n",
      "('C:\\\\Windows\\\\WinSxS\\\\x86_netfx4-web_mediumtrust_config_b03f5f7f11d50a3a_4.0.15805.0_none_103ebd44dfd9d7d6', [], ['web_mediumtrust.config'])\n",
      "('C:\\\\Windows\\\\WinSxS\\\\x86_netfx4-web_mediumtrust_config_default_b03f5f7f11d50a3a_4.0.15805.0_none_90c8556ad9960374', [], ['web_mediumtrust.config.default'])\n",
      "('C:\\\\Windows\\\\WinSxS\\\\x86_netfx4-web_minimaltrust_config_b03f5f7f11d50a3a_4.0.15805.0_none_2a0b6ab13d29bd70', [], ['web_minimaltrust.config'])\n",
      "('C:\\\\Windows\\\\WinSxS\\\\x86_netfx4-web_minimaltrust_config_default_b03f5f7f11d50a3a_4.0.15805.0_none_ff28c1b5a33d94a2', [], ['web_minimaltrust.config.default'])\n",
      "('C:\\\\Windows\\\\WinSxS\\\\x86_netfx4-wminet_utils_dll_b03f5f7f11d50a3a_4.0.15805.0_none_13ac38a1cbeccb80', [], ['WMINet_Utils.dll'])\n",
      "('C:\\\\Windows\\\\WinSxS\\\\x86_netfx4-workflowserv..ormancecounters_dll_b03f5f7f11d50a3a_4.0.15805.0_none_ff9904c8589b22fd', [], ['WorkflowServiceHostPerformanceCounters.dll'])\n",
      "('C:\\\\Windows\\\\WinSxS\\\\x86_netfx4-workflowserv..ormancecounters_dll_b03f5f7f11d50a3a_4.0.15805.101_none_f765d0aa13a0bda7', [], ['WorkflowServiceHostPerformanceCounters.dll'])\n",
      "('C:\\\\Windows\\\\WinSxS\\\\x86_netfx4-workflowserv..ormancecounters_man_b03f5f7f11d50a3a_4.0.15805.0_none_ff82830658ac60db', [], ['WorkflowServiceHostPerformanceCounters.man'])\n",
      "('C:\\\\Windows\\\\WinSxS\\\\x86_netfx4-workflow_targets_files_b03f5f7f11d50a3a_4.0.15805.0_none_448273f6a759d065', [], ['Workflow.Targets', 'Workflow.VisualBasic.Targets'])\n",
      "('C:\\\\Windows\\\\WinSxS\\\\x86_netfx4-wpfetwman_b03f5f7f11d50a3a_4.0.15805.0_none_c1ef38e816e5688c', [], ['wpf-etw.man'])\n",
      "('C:\\\\Windows\\\\WinSxS\\\\x86_netfx4-wpfgfx_b03f5f7f11d50a3a_4.0.15805.0_none_7d12855136507173', [], ['wpfgfx_v0400.dll'])\n",
      "('C:\\\\Windows\\\\WinSxS\\\\x86_netfx4-wpfgfx_b03f5f7f11d50a3a_4.0.15805.101_none_74df5132f1560c1d', [], ['wpfgfx_v0400.dll'])\n",
      "('C:\\\\Windows\\\\WinSxS\\\\x86_netfx4-wpfgfx_b03f5f7f11d50a3a_4.0.15805.255_none_74e3538cf1527035', [], ['wpfgfx_v0400.dll'])\n",
      "('C:\\\\Windows\\\\WinSxS\\\\x86_netfx4-xpthemes_manifest_b03f5f7f11d50a3a_4.0.15805.0_none_4950db936316c015', [], ['XPThemes.manifest'])\n",
      "('C:\\\\Windows\\\\WinSxS\\\\x86_ntprint.inf.resources_31bf3856ad364e35_10.0.19041.1_en-us_620a3982f8805083', [], ['ntprint.inf_loc'])\n",
      "('C:\\\\Windows\\\\WinSxS\\\\x86_policy.1.0.microsof..op.security.azroles_31bf3856ad364e35_10.0.19041.1_none_f75721604dc4eabe', [], ['Policy.1.0.Microsoft.Interop.Security.AzRoles.config', 'Policy.1.0.Microsoft.Interop.Security.AzRoles.dll'])\n",
      "('C:\\\\Windows\\\\WinSxS\\\\x86_policy.1.2.microsof..op.security.azroles_31bf3856ad364e35_10.0.19041.1_none_468c75481260dea0', [], ['Policy.1.2.Microsoft.Interop.Security.AzRoles.config', 'Policy.1.2.Microsoft.Interop.Security.AzRoles.dll'])\n",
      "('C:\\\\Windows\\\\WinSxS\\\\x86_presentationcore_31bf3856ad364e35_10.0.19200.101_none_7bca7d909fb91b37', [], ['PresentationCore.dll', 'PresentationFontCache.exe.config', 'wpfgfx_v0300.dll'])\n",
      "('C:\\\\Windows\\\\WinSxS\\\\x86_presentationcore_31bf3856ad364e35_10.0.19200.250_none_7b936f909fe28abc', [], ['PresentationCore.dll', 'PresentationFontCache.exe.config', 'wpfgfx_v0300.dll'])\n",
      "('C:\\\\Windows\\\\WinSxS\\\\x86_prnms003.inf.resources_31bf3856ad364e35_10.0.19041.1_en-us_3f05b34c432c9d65', [], ['prnms003.inf_loc'])\n",
      "('C:\\\\Windows\\\\WinSxS\\\\x86_regsvcs_b03f5f7f11d50a3a_4.0.15805.0_none_8ce1f3b4679d3a76', [], ['RegSvcs.exe', 'regsvcs.exe.config'])\n",
      "('C:\\\\Windows\\\\WinSxS\\\\x86_srmlib_31bf3856ad364e35_10.0.19041.1_none_5bdb1eef4de17ae1', [], ['srmlib.dll'])\n",
      "('C:\\\\Windows\\\\WinSxS\\\\x86_system.data_b77a5c561934e089_10.0.19200.236_none_b2deaec32434c099', [], ['System.Data.dll'])\n",
      "('C:\\\\Windows\\\\WinSxS\\\\x86_system.printing_31bf3856ad364e35_10.0.19200.101_none_42d9ce0e85e11f62', [], ['System.Printing.dll'])\n",
      "('C:\\\\Windows\\\\WinSxS\\\\x86_system.printing_31bf3856ad364e35_10.0.19200.250_none_42a2c00e860a8ee7', [], ['System.Printing.dll'])\n",
      "('C:\\\\Windows\\\\WinSxS\\\\x86_system.web_b03f5f7f11d50a3a_10.0.19200.170_none_1574845e8683f52c', [], ['System.Web.dll'])\n",
      "('C:\\\\Windows\\\\WinSxS\\\\x86_wcf-m_smsvchost_exe_cnf_31bf3856ad364e35_10.0.19041.1_none_4e866ffd000dfd40', [], ['SMSvcHost.exe.config'])\n",
      "('C:\\\\Windows\\\\WinSxS\\\\x86_wcf-m_smsvchost_perf_c_reg_31bf3856ad364e35_10.0.19041.1_none_8a201546f5b10f6c', [], ['_SMSvcHostPerfCounters.reg'])\n",
      "('C:\\\\Windows\\\\WinSxS\\\\x86_wcf-m_smsvchost_perf_c_vrg_31bf3856ad364e35_10.0.19041.1_none_8fe3977cf1fcb0cb', [], ['_SMSvcHostPerfCounters.vrg'])\n",
      "('C:\\\\Windows\\\\WinSxS\\\\x86_wcf-m_sm_cfg_ins_exe_31bf3856ad364e35_10.0.19041.1_none_59f3ce100425ffb0', [], ['SMConfigInstaller.exe'])\n",
      "('C:\\\\Windows\\\\WinSxS\\\\x86_wcf-m_sm_evt_dll_vista_31bf3856ad364e35_10.0.19041.1_none_d23ca2e47f61b5d8', [], ['ServiceModelEvents.dll'])\n",
      "('C:\\\\Windows\\\\WinSxS\\\\x86_wcf-m_sm_ins_rc_dll_31bf3856ad364e35_10.0.19041.1_none_22ceb75730c4b86b', [], ['ServiceModelInstallRC.dll'])\n",
      "('C:\\\\Windows\\\\WinSxS\\\\x86_wcf-m_svc_mod_end_perf_reg_31bf3856ad364e35_10.0.19041.1_none_20a70e5576dfa6e5', [], ['_ServiceModelEndpointPerfCounters.reg'])\n",
      "('C:\\\\Windows\\\\WinSxS\\\\x86_wcf-m_svc_mod_end_perf_vrg_31bf3856ad364e35_10.0.19041.1_none_266a908b732b4844', [], ['_ServiceModelEndpointPerfCounters.vrg'])\n",
      "('C:\\\\Windows\\\\WinSxS\\\\x86_wcf-m_svc_mod_op_perf_c_reg_31bf3856ad364e35_10.0.19041.1_none_2191fb73138118f3', [], ['_ServiceModelOperationPerfCounters.reg'])\n",
      "('C:\\\\Windows\\\\WinSxS\\\\x86_wcf-m_svc_mod_op_perf_c_vrg_31bf3856ad364e35_10.0.19041.1_none_22cb892f12c6964c', [], ['_ServiceModelOperationPerfCounters.vrg'])\n",
      "('C:\\\\Windows\\\\WinSxS\\\\x86_wcf-m_svc_mod_svc_perf_reg_31bf3856ad364e35_10.0.19041.1_none_d08d8412763560a8', [], ['_ServiceModelServicePerfCounters.reg'])\n",
      "('C:\\\\Windows\\\\WinSxS\\\\x86_wcf-m_svc_mod_svc_perf_vrg_31bf3856ad364e35_10.0.19041.1_none_d651064872810207', [], ['_ServiceModelServicePerfCounters.vrg'])\n",
      "('C:\\\\Windows\\\\WinSxS\\\\x86_wcf-m_svc_mon_sup_dll_31bf3856ad364e35_10.0.19041.1_none_ffb0774d329e8022', [], ['ServiceMonikerSupport.dll'])\n",
      "('C:\\\\Windows\\\\WinSxS\\\\x86_wcf-m_svc_mon_sup_dll_31bf3856ad364e35_10.0.19200.110_none_756ba0685b6c3f32', [], ['ServiceMonikerSupport.dll'])\n",
      "('C:\\\\Windows\\\\WinSxS\\\\x86_wcf-m_tx_bridge_perf_c_reg_31bf3856ad364e35_10.0.19041.1_none_d668ccfb17c5cbd4', [], ['_TransactionBridgePerfCounters.reg'])\n",
      "('C:\\\\Windows\\\\WinSxS\\\\x86_wcf-m_tx_bridge_perf_c_vrg_31bf3856ad364e35_10.0.19041.1_none_dc2c4f3114116d33', [], ['_TransactionBridgePerfCounters.vrg'])\n",
      "('C:\\\\Windows\\\\WinSxS\\\\x86_wcf-system.identitymodel.selectors_b03f5f7f11d50a3a_10.0.19041.1_none_2459ed2ac211ecde', [], ['System.IdentityModel.Selectors.dll'])\n",
      "('C:\\\\Windows\\\\WinSxS\\\\x86_wcf-system.identitymodel_b03f5f7f11d50a3a_10.0.19041.1_none_e690fdc7d17e3f70', [], ['System.IdentityModel.dll'])\n",
      "('C:\\\\Windows\\\\WinSxS\\\\x86_wcf-system.identitymodel_b03f5f7f11d50a3a_10.0.19200.110_none_43ef36ddb083d4e0', [], ['System.IdentityModel.dll'])\n",
      "('C:\\\\Windows\\\\WinSxS\\\\x86_wcf-system.io.log_b03f5f7f11d50a3a_10.0.19041.1_none_9b56331c4c1e0b85', [], ['System.IO.Log.dll'])\n",
      "('C:\\\\Windows\\\\WinSxS\\\\x86_wcf-system.runtime.serialization_b03f5f7f11d50a3a_10.0.19041.1_none_c8294510b1b4c5d7', [], ['System.Runtime.Serialization.dll'])\n",
      "('C:\\\\Windows\\\\WinSxS\\\\x86_wcf-system.runtime.serialization_b03f5f7f11d50a3a_10.0.19200.110_none_25877e2690ba5b47', [], ['System.Runtime.Serialization.dll'])\n",
      "('C:\\\\Windows\\\\WinSxS\\\\x86_wcf-system.servicemodel_b03f5f7f11d50a3a_10.0.19041.1_none_d5e154fc7c748389', [], ['System.ServiceModel.dll'])\n",
      "('C:\\\\Windows\\\\WinSxS\\\\x86_wcf-system.servicemodel_b03f5f7f11d50a3a_10.0.19200.110_none_333f8e125b7a18f9', [], ['System.ServiceModel.dll'])\n",
      "('C:\\\\Windows\\\\WinSxS\\\\x86_windows-defender-management-powershell_31bf3856ad364e35_10.0.19041.1_none_3d95cd0a88523a81', [], ['Defender.psd1', 'MSFT_MpComputerStatus.cdxml', 'MSFT_MpPreference.cdxml', 'MSFT_MpScan.cdxml', 'MSFT_MpSignature.cdxml', 'MSFT_MpThreat.cdxml', 'MSFT_MpThreatCatalog.cdxml', 'MSFT_MpThreatDetection.cdxml', 'MSFT_MpWDOScan.cdxml'])\n",
      "('C:\\\\Windows\\\\WinSxS\\\\x86_wpf-penimc_31bf3856ad364e35_10.0.19200.101_none_7b4a7e391472a5a4', [], ['PenIMC.dll'])\n",
      "('C:\\\\Windows\\\\WinSxS\\\\x86_wpf-penimc_31bf3856ad364e35_10.0.19200.250_none_7b137039149c1529', [], ['PenIMC.dll'])\n",
      "('C:\\\\Windows\\\\WinSxS\\\\x86_wpf-presentationframework_31bf3856ad364e35_10.0.19200.101_none_3e1fc75765bb3964', [], ['PresentationFramework.dll'])\n",
      "('C:\\\\Windows\\\\WinSxS\\\\x86_wpf-presentationframework_31bf3856ad364e35_10.0.19200.250_none_3de8b95765e4a8e9', [], ['PresentationFramework.dll'])\n",
      "('C:\\\\Windows\\\\WinSxS\\\\x86_wpf-presentationhostdll_31bf3856ad364e35_10.0.19200.101_none_3fa4d88a2fc40d82', [], ['PresentationHostDLL.dll'])\n",
      "('C:\\\\Windows\\\\WinSxS\\\\x86_wpf-presentationhostdll_31bf3856ad364e35_10.0.19200.250_none_3f6dca8a2fed7d07', [], ['PresentationHostDLL.dll'])\n",
      "('C:\\\\Windows\\\\WinSxS\\\\x86_wpf-presentationhostexe_31bf3856ad364e35_10.0.19041.1_none_c9c6a551071df37e', [], ['PresentationHost.exe'])\n",
      "('C:\\\\Windows\\\\WinSxS\\\\x86_wpf-presentationhostproxy_31bf3856ad364e35_10.0.19041.1_none_845d88ac60cf32b0', [], ['PresentationHostProxy.dll'])\n",
      "('C:\\\\Windows\\\\WinSxS\\\\x86_wpf-reachframework_31bf3856ad364e35_10.0.19200.101_none_cfc39681387e521f', [], ['ReachFramework.dll'])\n",
      "('C:\\\\Windows\\\\WinSxS\\\\x86_wpf-reachframework_31bf3856ad364e35_10.0.19200.250_none_cf8c888138a7c1a4', [], ['ReachFramework.dll'])\n",
      "('C:\\\\Windows\\\\WinSxS\\\\x86_wpf-windowsbase_31bf3856ad364e35_10.0.19200.101_none_27067835578af13a', [], ['WindowsBase.dll'])\n",
      "('C:\\\\Windows\\\\WinSxS\\\\x86_wpf-windowsbase_31bf3856ad364e35_10.0.19200.250_none_26cf6a3557b460bf', [], ['WindowsBase.dll'])\n",
      "('C:\\\\Windows\\\\WinSxS\\\\x86_wwf-system.workflow.activities_31bf3856ad364e35_10.0.19200.101_none_01ff5e3387c37f14', [], ['System.Workflow.Activities.dll'])\n",
      "('C:\\\\Windows\\\\WinSxS\\\\x86_wwf-system.workflow.componentmodel_31bf3856ad364e35_10.0.19200.101_none_5b7d84ca1dda7a85', [], ['System.Workflow.ComponentModel.dll'])\n",
      "('C:\\\\Windows\\\\WinSxS\\\\x86_wwf-system.workflow.runtime_31bf3856ad364e35_10.0.19200.101_none_34b448eaafcbcb99', [], ['System.Workflow.Runtime.dll'])\n"
     ]
    }
   ],
   "source": [
    "for value in os.walk('C:\\Windows'):\n",
    "    print(value)"
   ]
  },
  {
   "cell_type": "code",
   "execution_count": 31,
   "metadata": {},
   "outputs": [
    {
     "output_type": "execute_result",
     "data": {
      "text/plain": [
       "'apple\\\\banana\\\\shake'"
      ]
     },
     "metadata": {},
     "execution_count": 31
    }
   ],
   "source": [
    "    os.path.join('apple','banana','shake')"
   ]
  },
  {
   "cell_type": "code",
   "execution_count": 33,
   "metadata": {},
   "outputs": [
    {
     "output_type": "error",
     "ename": "NameError",
     "evalue": "name 'address' is not defined",
     "traceback": [
      "\u001b[1;31m---------------------------------------------------------------------------\u001b[0m",
      "\u001b[1;31mNameError\u001b[0m                                 Traceback (most recent call last)",
      "\u001b[1;32m<ipython-input-33-8436b2565ed6>\u001b[0m in \u001b[0;36m<module>\u001b[1;34m\u001b[0m\n\u001b[1;32m----> 1\u001b[1;33m \u001b[0mos\u001b[0m\u001b[1;33m.\u001b[0m\u001b[0mpath\u001b[0m\u001b[1;33m.\u001b[0m\u001b[0mbasename\u001b[0m\u001b[1;33m(\u001b[0m\u001b[0maddress\u001b[0m\u001b[1;33m)\u001b[0m\u001b[1;33m\u001b[0m\u001b[1;33m\u001b[0m\u001b[0m\n\u001b[0m",
      "\u001b[1;31mNameError\u001b[0m: name 'address' is not defined"
     ]
    }
   ],
   "source": [
    "os.path.basename(address)"
   ]
  },
  {
   "cell_type": "code",
   "execution_count": 34,
   "metadata": {},
   "outputs": [
    {
     "output_type": "error",
     "ename": "NameError",
     "evalue": "name 'address' is not defined",
     "traceback": [
      "\u001b[1;31m---------------------------------------------------------------------------\u001b[0m",
      "\u001b[1;31mNameError\u001b[0m                                 Traceback (most recent call last)",
      "\u001b[1;32m<ipython-input-34-c755f032846b>\u001b[0m in \u001b[0;36m<module>\u001b[1;34m\u001b[0m\n\u001b[1;32m----> 1\u001b[1;33m \u001b[0mos\u001b[0m\u001b[1;33m.\u001b[0m\u001b[0mpath\u001b[0m\u001b[1;33m.\u001b[0m\u001b[0msplit\u001b[0m\u001b[1;33m(\u001b[0m\u001b[0maddress\u001b[0m\u001b[1;33m)\u001b[0m\u001b[1;33m\u001b[0m\u001b[1;33m\u001b[0m\u001b[0m\n\u001b[0m",
      "\u001b[1;31mNameError\u001b[0m: name 'address' is not defined"
     ]
    }
   ],
   "source": [
    "os.path.split(address)"
   ]
  },
  {
   "source": [
    "#MAths"
   ],
   "cell_type": "markdown",
   "metadata": {}
  },
  {
   "source": [
    "import math"
   ],
   "cell_type": "code",
   "metadata": {},
   "execution_count": 41,
   "outputs": []
  },
  {
   "cell_type": "code",
   "execution_count": 42,
   "metadata": {},
   "outputs": [
    {
     "output_type": "execute_result",
     "data": {
      "text/plain": [
       "3"
      ]
     },
     "metadata": {},
     "execution_count": 42
    }
   ],
   "source": [
    "math.gcd(12,45)"
   ]
  },
  {
   "cell_type": "code",
   "execution_count": 44,
   "metadata": {},
   "outputs": [
    {
     "output_type": "execute_result",
     "data": {
      "text/plain": [
       "5.0"
      ]
     },
     "metadata": {},
     "execution_count": 44
    }
   ],
   "source": [
    "math.hypot(3,4)"
   ]
  },
  {
   "cell_type": "code",
   "execution_count": 45,
   "metadata": {},
   "outputs": [
    {
     "output_type": "execute_result",
     "data": {
      "text/plain": [
       "3.141592653589793"
      ]
     },
     "metadata": {},
     "execution_count": 45
    }
   ],
   "source": [
    "math.pi"
   ]
  },
  {
   "cell_type": "code",
   "execution_count": 46,
   "metadata": {},
   "outputs": [
    {
     "output_type": "execute_result",
     "data": {
      "text/plain": [
       "3"
      ]
     },
     "metadata": {},
     "execution_count": 46
    }
   ],
   "source": [
    "math.ceil(2.26555884)"
   ]
  },
  {
   "cell_type": "code",
   "execution_count": 47,
   "metadata": {},
   "outputs": [
    {
     "output_type": "execute_result",
     "data": {
      "text/plain": [
       "2"
      ]
     },
     "metadata": {},
     "execution_count": 47
    }
   ],
   "source": [
    "round(1.81) #builtin function"
   ]
  },
  {
   "cell_type": "code",
   "execution_count": 48,
   "metadata": {},
   "outputs": [
    {
     "output_type": "execute_result",
     "data": {
      "text/plain": [
       "123.135"
      ]
     },
     "metadata": {},
     "execution_count": 48
    }
   ],
   "source": [
    "math.fabs(-123.135) #turns negative to positive"
   ]
  },
  {
   "cell_type": "code",
   "execution_count": 49,
   "metadata": {},
   "outputs": [
    {
     "output_type": "execute_result",
     "data": {
      "text/plain": [
       "-0.3048106211022167"
      ]
     },
     "metadata": {},
     "execution_count": 49
    }
   ],
   "source": [
    "math.sin(60)"
   ]
  },
  {
   "cell_type": "code",
   "execution_count": 50,
   "metadata": {},
   "outputs": [
    {
     "output_type": "execute_result",
     "data": {
      "text/plain": [
       "0.15425144988758405"
      ]
     },
     "metadata": {},
     "execution_count": 50
    }
   ],
   "source": [
    "math.cos(30)"
   ]
  },
  {
   "source": [
    "#assingment  \n",
    "-print the size of each file in kb in a folder path given by user\n"
   ],
   "cell_type": "markdown",
   "metadata": {}
  },
  {
   "cell_type": "code",
   "execution_count": null,
   "metadata": {},
   "outputs": [],
   "source": []
  }
 ]
}