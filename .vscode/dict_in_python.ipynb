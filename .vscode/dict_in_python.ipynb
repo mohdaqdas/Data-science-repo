{
 "metadata": {
  "language_info": {
   "codemirror_mode": {
    "name": "ipython",
    "version": 3
   },
   "file_extension": ".py",
   "mimetype": "text/x-python",
   "name": "python",
   "nbconvert_exporter": "python",
   "pygments_lexer": "ipython3",
   "version": "3.9.0-final"
  },
  "orig_nbformat": 2,
  "kernelspec": {
   "name": "python3",
   "display_name": "Python 3.9.0 64-bit",
   "metadata": {
    "interpreter": {
     "hash": "68078da1e8f2b70216368c65794038e06b6b70a952cdc317112cc851aad305e6"
    }
   }
  }
 },
 "nbformat": 4,
 "nbformat_minor": 2,
 "cells": [
  {
   "cell_type": "code",
   "execution_count": null,
   "metadata": {},
   "outputs": [],
   "source": [
    "### dict properties\n",
    "-unindex,ordered(from v3.6)\n",
    "-items are stored in :value pair\n",
    "_hetrogeneous\n",
    "-mutable\n",
    "-keys are unique and are imutable (i.e.-string, tuple)\n",
    "-represented by {}\n",
    "-has a function called dict()"
   ]
  },
  {
   "cell_type": "code",
   "execution_count": 2,
   "metadata": {},
   "outputs": [
    {
     "output_type": "stream",
     "name": "stdout",
     "text": [
      "{('raju', 39), ('ravi', 15), ('devi', 40)}\n"
     ]
    }
   ],
   "source": [
    "x={('ravi',15),('raju',39),('devi',40)}\n",
    "print(x)"
   ]
  },
  {
   "cell_type": "code",
   "execution_count": 16,
   "metadata": {},
   "outputs": [],
   "source": [
    "info={\n",
    "    'apple' : 'apple is a fruit',\n",
    "    'football' :'the best sport on the planet',\n",
    "    'something': 'this is something'\n",
    "    }"
   ]
  },
  {
   "cell_type": "code",
   "execution_count": 18,
   "metadata": {},
   "outputs": [
    {
     "output_type": "execute_result",
     "data": {
      "text/plain": [
       "'apple is a fruit'"
      ]
     },
     "metadata": {},
     "execution_count": 18
    }
   ],
   "source": [
    "info['apple']"
   ]
  },
  {
   "cell_type": "code",
   "execution_count": 21,
   "metadata": {},
   "outputs": [],
   "source": [
    "report={\n",
    "    'ananya':[83,56,32,67],\n",
    "    'anubhav':[34,67,89,52],\n",
    "    'devesh':[89,74,65,42],\n",
    "    'aqdas':[56,85,96,74]\n",
    "}"
   ]
  },
  {
   "cell_type": "code",
   "execution_count": 15,
   "metadata": {},
   "outputs": [
    {
     "output_type": "execute_result",
     "data": {
      "text/plain": [
       "[56, 85, 96, 74]"
      ]
     },
     "metadata": {},
     "execution_count": 15
    }
   ],
   "source": [
    "report['aqdas']"
   ]
  },
  {
   "cell_type": "code",
   "execution_count": 17,
   "metadata": {},
   "outputs": [
    {
     "output_type": "execute_result",
     "data": {
      "text/plain": [
       "52"
      ]
     },
     "metadata": {},
     "execution_count": 17
    }
   ],
   "source": [
    "report['anubhav'] [-1]"
   ]
  },
  {
   "cell_type": "code",
   "execution_count": 3,
   "metadata": {},
   "outputs": [],
   "source": [
    "company_emp={\n",
    "    'EMP85454':{\n",
    "        'name':'aqdas',\n",
    "        'salary':56558,\n",
    "        'age':25\n",
    "    },\n",
    "    'EMP589654':{\n",
    "        'name':'anubhav',\n",
    "        'salary':25488,\n",
    "        'age':32\n",
    "    },\n",
    "}"
   ]
  },
  {
   "cell_type": "code",
   "execution_count": 20,
   "metadata": {},
   "outputs": [
    {
     "output_type": "execute_result",
     "data": {
      "text/plain": [
       "{'name': 'aqdas', 'salary': 56558, 'age': 25}"
      ]
     },
     "metadata": {},
     "execution_count": 20
    }
   ],
   "source": [
    "company_emp['EMP85454']"
   ]
  },
  {
   "cell_type": "code",
   "execution_count": 1,
   "metadata": {},
   "outputs": [],
   "source": [
    "contact_book={\n",
    "    'vineet':{\n",
    "        'phone':58964425,\n",
    "        'email':'vineet@gmail.com',\n",
    "    },\n",
    "    'anubhav':{\n",
    "        'phone':1346435464,\n",
    "        'email':'anubhav@gmail.com',\n",
    "    },\n",
    "    'zaid':{\n",
    "        'phone':25454654,\n",
    "        'email':'zaid25578@gmail.com',\n",
    "    },\n",
    "    'kamil':{\n",
    "        'phone':85451648,\n",
    "        'email':'kamil85678@gmail.com',\n",
    "    },\n",
    "    'maaz':{\n",
    "        'phone':345734956,\n",
    "        'email':'maaz008@gmail.com',\n",
    "    },\n",
    "    'tapun':{\n",
    "        'phone':3295703479,\n",
    "        'email':'tapun8678@gmail.com',\n",
    "    },\n",
    "    'asnal':{\n",
    "        'phone':12093104983,\n",
    "        'email':'asnal90978@gmail.com',\n",
    "    },\n",
    "    'malika':{\n",
    "        'phone':85585585656,\n",
    "        'email':'malika565678@gmail.com',\n",
    "    },\n",
    "}"
   ]
  },
  {
   "cell_type": "code",
   "execution_count": 6,
   "metadata": {},
   "outputs": [
    {
     "output_type": "execute_result",
     "data": {
      "text/plain": [
       "{'phone': 1346435464, 'email': 'anubhav@gmail.com'}"
      ]
     },
     "metadata": {},
     "execution_count": 6
    }
   ],
   "source": [
    "contact_book['anubhav']"
   ]
  },
  {
   "cell_type": "code",
   "execution_count": 7,
   "metadata": {},
   "outputs": [
    {
     "output_type": "execute_result",
     "data": {
      "text/plain": [
       "{'vineet': {'phone': 58964425, 'email': 'vineet@gmail.com'},\n",
       " 'anubhav': {'phone': 1346435464, 'email': 'anubhav@gmail.com'},\n",
       " 'zaid': {'phone': 25454654, 'email': 'zaid25578@gmail.com'},\n",
       " 'kamil': {'phone': 85451648, 'email': 'kamil85678@gmail.com'},\n",
       " 'maaz': {'phone': 345734956, 'email': 'maaz008@gmail.com'},\n",
       " 'tapun': {'phone': 3295703479, 'email': 'tapun8678@gmail.com'},\n",
       " 'asnal': {'phone': 12093104983, 'email': 'asnal90978@gmail.com'},\n",
       " 'malika': {'phone': 85585585656, 'email': 'malika565678@gmail.com'}}"
      ]
     },
     "metadata": {},
     "execution_count": 7
    }
   ],
   "source": [
    "contact_book"
   ]
  },
  {
   "cell_type": "code",
   "execution_count": 12,
   "metadata": {},
   "outputs": [],
   "source": [
    "#dict function \n",
    "#-update\n",
    "#get\n",
    "#pop\n",
    "#popitem\n",
    "#clear\n",
    "#items\n",
    "#keys\n",
    "#values\n"
   ]
  },
  {
   "cell_type": "code",
   "execution_count": 9,
   "metadata": {},
   "outputs": [
    {
     "output_type": "execute_result",
     "data": {
      "text/plain": [
       "dict_items([('vineet', {'phone': 58964425, 'email': 'vineet@gmail.com'}), ('anubhav', {'phone': 1346435464, 'email': 'anubhav@gmail.com'}), ('zaid', {'phone': 25454654, 'email': 'zaid25578@gmail.com'}), ('kamil', {'phone': 85451648, 'email': 'kamil85678@gmail.com'}), ('maaz', {'phone': 345734956, 'email': 'maaz008@gmail.com'}), ('tapun', {'phone': 3295703479, 'email': 'tapun8678@gmail.com'}), ('asnal', {'phone': 12093104983, 'email': 'asnal90978@gmail.com'}), ('malika', {'phone': 85585585656, 'email': 'malika565678@gmail.com'})])"
      ]
     },
     "metadata": {},
     "execution_count": 9
    }
   ],
   "source": [
    "contact_book.items() #list of key value pair as tuple"
   ]
  },
  {
   "cell_type": "code",
   "execution_count": 13,
   "metadata": {},
   "outputs": [
    {
     "output_type": "execute_result",
     "data": {
      "text/plain": [
       "dict_keys(['vineet', 'anubhav', 'zaid', 'kamil', 'maaz', 'tapun', 'asnal', 'malika'])"
      ]
     },
     "metadata": {},
     "execution_count": 13
    }
   ],
   "source": [
    "contact_book.keys()"
   ]
  },
  {
   "cell_type": "code",
   "execution_count": 19,
   "metadata": {},
   "outputs": [
    {
     "output_type": "execute_result",
     "data": {
      "text/plain": [
       "dict_values(['apple is a fruit', 'the best sport on the planet', 'this is something'])"
      ]
     },
     "metadata": {},
     "execution_count": 19
    }
   ],
   "source": [
    "info.values()"
   ]
  },
  {
   "cell_type": "code",
   "execution_count": 20,
   "metadata": {},
   "outputs": [],
   "source": [
    "info['cup']='the thing that hold the tea'"
   ]
  },
  {
   "cell_type": "code",
   "execution_count": 23,
   "metadata": {},
   "outputs": [
    {
     "output_type": "execute_result",
     "data": {
      "text/plain": [
       "{'apple': 'apple is a fruit',\n",
       " 'football': 'the best sport on the planet',\n",
       " 'something': 'this is something',\n",
       " 'cup': 'the thing that hold the tea',\n",
       " 'baseball': 'is a good sport'}"
      ]
     },
     "metadata": {},
     "execution_count": 23
    }
   ],
   "source": [
    "info"
   ]
  },
  {
   "cell_type": "code",
   "execution_count": 22,
   "metadata": {},
   "outputs": [],
   "source": [
    "info['baseball']='is a good sport'"
   ]
  },
  {
   "cell_type": "code",
   "execution_count": 24,
   "metadata": {},
   "outputs": [
    {
     "output_type": "execute_result",
     "data": {
      "text/plain": [
       "{'apple': 'apple is a fruit',\n",
       " 'football': 'the best sport on the planet',\n",
       " 'something': 'this is something',\n",
       " 'cup': 'the thing that hold the tea',\n",
       " 'baseball': 'is a good sport'}"
      ]
     },
     "metadata": {},
     "execution_count": 24
    }
   ],
   "source": [
    "info"
   ]
  },
  {
   "cell_type": "code",
   "execution_count": 26,
   "metadata": {},
   "outputs": [],
   "source": [
    "#existing the new value\n",
    "info['something']='the meaning of something is not known'"
   ]
  },
  {
   "cell_type": "code",
   "execution_count": 27,
   "metadata": {},
   "outputs": [
    {
     "output_type": "execute_result",
     "data": {
      "text/plain": [
       "{'apple': 'apple is a fruit',\n",
       " 'football': 'the best sport on the planet',\n",
       " 'something': 'the meaning of something is not known',\n",
       " 'cup': 'the thing that hold the tea',\n",
       " 'baseball': 'is a good sport'}"
      ]
     },
     "metadata": {},
     "execution_count": 27
    }
   ],
   "source": [
    "info"
   ]
  },
  {
   "cell_type": "code",
   "execution_count": 36,
   "metadata": {},
   "outputs": [
    {
     "output_type": "execute_result",
     "data": {
      "text/plain": [
       "{'vineet': {'phone': 58964425, 'email': 'vineet@gmail.com'},\n",
       " 'anubhav': {'phone': 1346435464, 'email': 'anubhav@gmail.com'},\n",
       " 'zaid': {'phone': 25454654, 'email': 'zaid25578@gmail.com'},\n",
       " 'kamil': {'phone': 85451648, 'email': 'kamil85678@gmail.com'},\n",
       " 'maaz': {'phone': 345734956, 'email': 'maaz008@gmail.com'},\n",
       " 'tapun': {'phone': 3295703479, 'email': 'tapun8678@gmail.com'},\n",
       " 'asnal': {'phone': 12093104983, 'email': 'asnal90978@gmail.com'},\n",
       " 'malika': {'phone': 85585585656, 'email': 'malika565678@gmail.com'},\n",
       " '': {'phone': '', 'email': ''},\n",
       " 'faraz': {'phone': '85255135465', 'email': 'farazmohd9887@gmail.com'}}"
      ]
     },
     "metadata": {},
     "execution_count": 36
    }
   ],
   "source": [
    "name=input('enter name:')\n",
    "number=input('enter the number:')\n",
    "email=input('enter email:')\n",
    "contact_book[name]={'phone':number,'email':email}\n",
    "contact_book"
   ]
  },
  {
   "cell_type": "code",
   "execution_count": 49,
   "metadata": {},
   "outputs": [],
   "source": [
    "#one more way to dictory"
   ]
  },
  {
   "cell_type": "code",
   "execution_count": 50,
   "metadata": {},
   "outputs": [],
   "source": [
    "emp=dict(name='raj mohan',age=29,salary=32146534,address='luckhnow')"
   ]
  },
  {
   "cell_type": "code",
   "execution_count": 51,
   "metadata": {},
   "outputs": [
    {
     "output_type": "execute_result",
     "data": {
      "text/plain": [
       "{'name': 'raj mohan', 'age': 29, 'salary': 32146534, 'address': 'luckhnow'}"
      ]
     },
     "metadata": {},
     "execution_count": 51
    }
   ],
   "source": [
    "emp"
   ]
  },
  {
   "cell_type": "code",
   "execution_count": 57,
   "metadata": {},
   "outputs": [
    {
     "output_type": "stream",
     "name": "stdout",
     "text": [
      "done\n",
      "done\n",
      "done\n",
      "done\n",
      "done\n"
     ]
    }
   ],
   "source": [
    "emps={}\n",
    "for i in range(5):\n",
    "    nm=input(\"NAME:\")\n",
    "    age=input(\"age:\")\n",
    "    sal=input(\"salary:\")\n",
    "    addr=input(\"address:\")\n",
    "    emps[name]={\n",
    "        'age':age,\n",
    "        'salary':sal,\n",
    "        'address':addr\n",
    "    }\n",
    "    print('done')"
   ]
  },
  {
   "cell_type": "code",
   "execution_count": 61,
   "metadata": {},
   "outputs": [
    {
     "output_type": "execute_result",
     "data": {
      "text/plain": [
       "{'faraz': {'age': \"222'\", 'salary': '989898', 'address': 'rfhkkh'}}"
      ]
     },
     "metadata": {},
     "execution_count": 61
    }
   ],
   "source": [
    "emps\n"
   ]
  },
  {
   "cell_type": "code",
   "execution_count": null,
   "metadata": {},
   "outputs": [],
   "source": [
    "#Ques :- seach a person -if the user enters a name , and if ........ "
   ]
  },
  {
   "cell_type": "code",
   "execution_count": 15,
   "metadata": {},
   "outputs": [
    {
     "output_type": "stream",
     "name": "stdout",
     "text": [
      "user does not exist\n"
     ]
    }
   ],
   "source": [
    "#solution\n",
    "search=input('enter the name of the user:')\n",
    "if search.lower() in contact_book:\n",
    "    print(contact_book[search])\n",
    "else:\n",
    "    print('user does not exist')\n",
    "      "
   ]
  },
  {
   "cell_type": "code",
   "execution_count": 14,
   "metadata": {},
   "outputs": [],
   "source": [
    "add=input('enter the name to be added:')\n",
    "if add.lower() in contact_book:\n",
    "    print('user already exists')\n",
    "else:\n",
    "     num=int(input('enter the phone number:')) \n",
    "     eml=input('enter the email:')\n",
    "     contact_book[add]={'phone':num,'email':eml}\n",
    "        "
   ]
  },
  {
   "cell_type": "code",
   "execution_count": 11,
   "metadata": {},
   "outputs": [
    {
     "output_type": "stream",
     "name": "stdout",
     "text": [
      "user does not exist\n"
     ]
    }
   ],
   "source": [
    "de=input('enter the name to be deleted:')\n",
    "if de.lower() in contact_book:\n",
    "    contact_book.pop(de)\n",
    "    print(contact_book)\n",
    "else:\n",
    "    print('user does not exist')\n",
    "        "
   ]
  },
  {
   "cell_type": "code",
   "execution_count": 2,
   "metadata": {},
   "outputs": [
    {
     "output_type": "stream",
     "name": "stdout",
     "text": [
      "adeeb khan is a good boy\n"
     ]
    }
   ],
   "source": [
    "x=(\"adeeb khan is a good boy\")\n",
    "print(x)"
   ]
  },
  {
   "cell_type": "code",
   "execution_count": null,
   "metadata": {},
   "outputs": [],
   "source": []
  }
 ]
}