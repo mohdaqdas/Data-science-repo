{
 "metadata": {
  "language_info": {
   "codemirror_mode": {
    "name": "ipython",
    "version": 3
   },
   "file_extension": ".py",
   "mimetype": "text/x-python",
   "name": "python",
   "nbconvert_exporter": "python",
   "pygments_lexer": "ipython3",
   "version": "3.9.0-final"
  },
  "orig_nbformat": 2,
  "kernelspec": {
   "name": "python3",
   "display_name": "Python 3.9.0 64-bit",
   "metadata": {
    "interpreter": {
     "hash": "68078da1e8f2b70216368c65794038e06b6b70a952cdc317112cc851aad305e6"
    }
   }
  }
 },
 "nbformat": 4,
 "nbformat_minor": 2,
 "cells": [
  {
   "cell_type": "code",
   "execution_count": 2,
   "metadata": {},
   "outputs": [
    {
     "output_type": "stream",
     "name": "stdout",
     "text": [
      "Requirement already satisfied: requests in c:\\users\\faraz\\appdata\\local\\programs\\python\\python39\\lib\\site-packages (2.25.1)\nRequirement already satisfied: beautifulsoup4 in c:\\users\\faraz\\appdata\\local\\programs\\python\\python39\\lib\\site-packages (4.9.3)\nRequirement already satisfied: pandas in c:\\users\\faraz\\appdata\\local\\programs\\python\\python39\\lib\\site-packages (1.2.1)\nRequirement already satisfied: urllib3<1.27,>=1.21.1 in c:\\users\\faraz\\appdata\\local\\programs\\python\\python39\\lib\\site-packages (from requests) (1.26.2)\nRequirement already satisfied: chardet<5,>=3.0.2 in c:\\users\\faraz\\appdata\\local\\programs\\python\\python39\\lib\\site-packages (from requests) (4.0.0)\nRequirement already satisfied: certifi>=2017.4.17 in c:\\users\\faraz\\appdata\\local\\programs\\python\\python39\\lib\\site-packages (from requests) (2020.12.5)\nRequirement already satisfied: idna<3,>=2.5 in c:\\users\\faraz\\appdata\\local\\programs\\python\\python39\\lib\\site-packages (from requests) (2.10)\nRequirement already satisfied: soupsieve>1.2; python_version >= \"3.0\" in c:\\users\\faraz\\appdata\\local\\programs\\python\\python39\\lib\\site-packages (from beautifulsoup4) (2.1)\nRequirement already satisfied: pytz>=2017.3 in c:\\users\\faraz\\appdata\\local\\programs\\python\\python39\\lib\\site-packages (from pandas) (2020.5)\nRequirement already satisfied: python-dateutil>=2.7.3 in c:\\users\\faraz\\appdata\\roaming\\python\\python39\\site-packages (from pandas) (2.8.1)\nRequirement already satisfied: numpy>=1.16.5 in c:\\users\\faraz\\appdata\\local\\programs\\python\\python39\\lib\\site-packages (from pandas) (1.19.5)\nRequirement already satisfied: six>=1.5 in c:\\users\\faraz\\appdata\\roaming\\python\\python39\\site-packages (from python-dateutil>=2.7.3->pandas) (1.15.0)\nNote: you may need to restart the kernel to use updated packages.\n"
     ]
    }
   ],
   "source": [
    "pip install requests beautifulsoup4 pandas"
   ]
  },
  {
   "cell_type": "code",
   "execution_count": null,
   "metadata": {},
   "outputs": [],
   "source": []
  }
 ]
}